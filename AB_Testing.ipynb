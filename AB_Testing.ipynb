{
 "cells": [
  {
   "cell_type": "code",
   "execution_count": 38,
   "metadata": {},
   "outputs": [],
   "source": [
    "## using dataset from TotallyMoney\n",
    "import pandas as pd\n",
    "import numpy as np\n",
    "from scipy.stats import norm\n",
    "import statsmodels.stats.proportion as ssp\n",
    "import scipy.stats as stats\n",
    "from plotly import graph_objects as go\n",
    "\n",
    "import seaborn as sns #visualisation\n",
    "import matplotlib.pyplot as plt #visualisation\n",
    "%matplotlib inline \n",
    "sns.set(color_codes=True)\n",
    "\n",
    "visits = pd.read_csv('/Users/emilee/Documents/TotallyMoney_Data_Scientist_Technical_Test/data/visits.csv')\n",
    "variations = pd.read_csv('/Users/emilee/Documents/TotallyMoney_Data_Scientist_Technical_Test/data/variations.csv')\n",
    "conversions = pd.read_csv('/Users/emilee/Documents/TotallyMoney_Data_Scientist_Technical_Test/data/test_conversions.csv')\n",
    "email = pd.read_csv('/Users/emilee/Documents/TotallyMoney_Data_Scientist_Technical_Test/data/email_engagement.csv')"
   ]
  },
  {
   "cell_type": "code",
   "execution_count": 39,
   "metadata": {},
   "outputs": [],
   "source": [
    "## For A/B Testing: Merge together Visits, Variations, and Test conversions datsets on user_id\n",
    "ABTest_data = pd.merge(pd.merge(visits,variations,on='user_id', how='outer'),conversions,on='user_id', how='outer')\n",
    "\n",
    "## data cleaning, convert the null values to zero in the converted column (where users did not convert)\n",
    "ABTest_data['converted'] = ABTest_data.converted.apply(lambda x: 1 if x == 1 else 0)"
   ]
  },
  {
   "cell_type": "code",
   "execution_count": 40,
   "metadata": {},
   "outputs": [
    {
     "data": {
      "text/html": [
       "<div>\n",
       "<style scoped>\n",
       "    .dataframe tbody tr th:only-of-type {\n",
       "        vertical-align: middle;\n",
       "    }\n",
       "\n",
       "    .dataframe tbody tr th {\n",
       "        vertical-align: top;\n",
       "    }\n",
       "\n",
       "    .dataframe thead th {\n",
       "        text-align: right;\n",
       "    }\n",
       "</style>\n",
       "<table border=\"1\" class=\"dataframe\">\n",
       "  <thead>\n",
       "    <tr style=\"text-align: right;\">\n",
       "      <th></th>\n",
       "      <th>user_id</th>\n",
       "      <th>visit_time</th>\n",
       "      <th>channel</th>\n",
       "      <th>age</th>\n",
       "      <th>income</th>\n",
       "      <th>gender</th>\n",
       "      <th>variation</th>\n",
       "      <th>converted</th>\n",
       "    </tr>\n",
       "  </thead>\n",
       "  <tbody>\n",
       "    <tr>\n",
       "      <th>0</th>\n",
       "      <td>4681</td>\n",
       "      <td>2018-01-06 15:00:00</td>\n",
       "      <td>Facebook</td>\n",
       "      <td>45.00</td>\n",
       "      <td>44000.00</td>\n",
       "      <td>female</td>\n",
       "      <td>control</td>\n",
       "      <td>1</td>\n",
       "    </tr>\n",
       "    <tr>\n",
       "      <th>1</th>\n",
       "      <td>9052</td>\n",
       "      <td>2018-08-23 12:00:00</td>\n",
       "      <td>Facebook</td>\n",
       "      <td>nan</td>\n",
       "      <td>35000.00</td>\n",
       "      <td>female</td>\n",
       "      <td>treatment</td>\n",
       "      <td>0</td>\n",
       "    </tr>\n",
       "    <tr>\n",
       "      <th>2</th>\n",
       "      <td>9579</td>\n",
       "      <td>2018-07-28 12:00:00</td>\n",
       "      <td>Facebook</td>\n",
       "      <td>41.00</td>\n",
       "      <td>42000.00</td>\n",
       "      <td>male</td>\n",
       "      <td>treatment</td>\n",
       "      <td>0</td>\n",
       "    </tr>\n",
       "    <tr>\n",
       "      <th>3</th>\n",
       "      <td>2601</td>\n",
       "      <td>2018-12-17 00:00:00</td>\n",
       "      <td>PPC</td>\n",
       "      <td>35.00</td>\n",
       "      <td>34000.00</td>\n",
       "      <td>male</td>\n",
       "      <td>treatment</td>\n",
       "      <td>0</td>\n",
       "    </tr>\n",
       "    <tr>\n",
       "      <th>4</th>\n",
       "      <td>7136</td>\n",
       "      <td>2018-09-27 21:00:00</td>\n",
       "      <td>PPC</td>\n",
       "      <td>nan</td>\n",
       "      <td>32000.00</td>\n",
       "      <td>male</td>\n",
       "      <td>control</td>\n",
       "      <td>0</td>\n",
       "    </tr>\n",
       "  </tbody>\n",
       "</table>\n",
       "</div>"
      ],
      "text/plain": [
       "   user_id           visit_time   channel   age   income  gender  variation  \\\n",
       "0     4681  2018-01-06 15:00:00  Facebook 45.00 44000.00  female    control   \n",
       "1     9052  2018-08-23 12:00:00  Facebook   nan 35000.00  female  treatment   \n",
       "2     9579  2018-07-28 12:00:00  Facebook 41.00 42000.00    male  treatment   \n",
       "3     2601  2018-12-17 00:00:00       PPC 35.00 34000.00    male  treatment   \n",
       "4     7136  2018-09-27 21:00:00       PPC   nan 32000.00    male    control   \n",
       "\n",
       "   converted  \n",
       "0          1  \n",
       "1          0  \n",
       "2          0  \n",
       "3          0  \n",
       "4          0  "
      ]
     },
     "execution_count": 40,
     "metadata": {},
     "output_type": "execute_result"
    }
   ],
   "source": [
    "ABTest_data.head()"
   ]
  },
  {
   "cell_type": "code",
   "execution_count": 41,
   "metadata": {},
   "outputs": [],
   "source": [
    "ABdata = ABTest_data[['user_id','variation','converted']]"
   ]
  },
  {
   "cell_type": "code",
   "execution_count": 42,
   "metadata": {},
   "outputs": [
    {
     "data": {
      "text/html": [
       "<div>\n",
       "<style scoped>\n",
       "    .dataframe tbody tr th:only-of-type {\n",
       "        vertical-align: middle;\n",
       "    }\n",
       "\n",
       "    .dataframe tbody tr th {\n",
       "        vertical-align: top;\n",
       "    }\n",
       "\n",
       "    .dataframe thead th {\n",
       "        text-align: right;\n",
       "    }\n",
       "</style>\n",
       "<table border=\"1\" class=\"dataframe\">\n",
       "  <thead>\n",
       "    <tr style=\"text-align: right;\">\n",
       "      <th></th>\n",
       "      <th>user_id</th>\n",
       "      <th>variation</th>\n",
       "      <th>converted</th>\n",
       "    </tr>\n",
       "  </thead>\n",
       "  <tbody>\n",
       "    <tr>\n",
       "      <th>0</th>\n",
       "      <td>4681</td>\n",
       "      <td>control</td>\n",
       "      <td>1</td>\n",
       "    </tr>\n",
       "    <tr>\n",
       "      <th>1</th>\n",
       "      <td>9052</td>\n",
       "      <td>treatment</td>\n",
       "      <td>0</td>\n",
       "    </tr>\n",
       "    <tr>\n",
       "      <th>2</th>\n",
       "      <td>9579</td>\n",
       "      <td>treatment</td>\n",
       "      <td>0</td>\n",
       "    </tr>\n",
       "    <tr>\n",
       "      <th>3</th>\n",
       "      <td>2601</td>\n",
       "      <td>treatment</td>\n",
       "      <td>0</td>\n",
       "    </tr>\n",
       "    <tr>\n",
       "      <th>4</th>\n",
       "      <td>7136</td>\n",
       "      <td>control</td>\n",
       "      <td>0</td>\n",
       "    </tr>\n",
       "  </tbody>\n",
       "</table>\n",
       "</div>"
      ],
      "text/plain": [
       "   user_id  variation  converted\n",
       "0     4681    control          1\n",
       "1     9052  treatment          0\n",
       "2     9579  treatment          0\n",
       "3     2601  treatment          0\n",
       "4     7136    control          0"
      ]
     },
     "execution_count": 42,
     "metadata": {},
     "output_type": "execute_result"
    }
   ],
   "source": [
    "ABdata.head()"
   ]
  },
  {
   "cell_type": "code",
   "execution_count": 43,
   "metadata": {},
   "outputs": [],
   "source": [
    "ABdata.to_csv(r'/Users/emilee/Documents/TotallyMoney_Data_Scientist_Technical_Test/data/ABdata.csv', index = False)"
   ]
  },
  {
   "cell_type": "code",
   "execution_count": null,
   "metadata": {},
   "outputs": [],
   "source": [
    "visits.shape\n",
    "print(\"There is data for\",len(visits.index), \"visits\", \"with\",visits['user_id'].nunique(), \"unique id\")"
   ]
  },
  {
   "cell_type": "code",
   "execution_count": null,
   "metadata": {},
   "outputs": [],
   "source": [
    "# Dataset has 10,000 observations in it "
   ]
  },
  {
   "cell_type": "markdown",
   "metadata": {},
   "source": [
    "Normally you would do a fair amount of exploratory and univariate data analysis before the AB testing but to keep things concise we are moving straight on to the AB testing part"
   ]
  },
  {
   "cell_type": "code",
   "execution_count": null,
   "metadata": {},
   "outputs": [],
   "source": [
    "## Create summary table with totals, conversions and proportions\n",
    "pd.options.display.float_format = \"{:.2f}\".format\n",
    "summary = ABTest_data.pivot_table(values='converted', index='variation', aggfunc=np.sum)\n",
    "summary['total'] = ABTest_data.pivot_table(values='converted', index='variation', aggfunc=lambda x: len(x))\n",
    "summary['perc'] = summary['converted']/summary['total']\n",
    "summary"
   ]
  },
  {
   "cell_type": "markdown",
   "metadata": {},
   "source": [
    "We have 4,976 users in our control group and 5,024 in our treatment group.\n",
    "Of those there were 999 conversions in the control group (20%) and 1,211 conversions in the treatment group (24%)"
   ]
  },
  {
   "cell_type": "markdown",
   "metadata": {},
   "source": [
    "**Testing to see if there is a significant difference** "
   ]
  },
  {
   "cell_type": "code",
   "execution_count": null,
   "metadata": {},
   "outputs": [],
   "source": [
    "# data wrangling, changing type\n",
    "converted = np.array(summary['converted'])\n",
    "group_totals = np.array(summary['total'])"
   ]
  },
  {
   "cell_type": "code",
   "execution_count": null,
   "metadata": {},
   "outputs": [],
   "source": [
    "## Calculate Diffference between the two groups and look at 95% CI\n",
    "significance = 0.05\n",
    "confidence = 1 - significance\n",
    "z = stats.norm(loc = 0, scale = 1).ppf(confidence + significance / 2)\n",
    "\n",
    "success_a = converted[1]\n",
    "success_b = converted[0]\n",
    "size_a = group_totals[1]\n",
    "size_b = group_totals[0]\n",
    "\n",
    "prop_a = success_b / size_b\n",
    "prop_b = success_a / size_a\n",
    "var = prop_a * (1 - prop_a) / size_a + prop_b * (1 - prop_b) / size_b\n",
    "se = np.sqrt(var)\n",
    "    \n",
    "# standard formula for the confidence interval: point-estimtate +- z * standard-error\n",
    "prop_diff = prop_b - prop_a\n",
    "confint = prop_diff + np.array([-1, 1]) * z * se\n",
    "\n",
    "print('estimate difference:', prop_diff)\n",
    "print('confidence interval:', confint)"
   ]
  },
  {
   "cell_type": "code",
   "execution_count": null,
   "metadata": {},
   "outputs": [],
   "source": [
    "# See whether there is a statistically significant difference \n",
    "stat, pval = ssp.proportions_ztest(converted, group_totals)\n",
    "print('p value: ', pval)\n",
    "print('formated p value: ''{0:0.3f}'.format(pval))"
   ]
  },
  {
   "cell_type": "code",
   "execution_count": null,
   "metadata": {},
   "outputs": [],
   "source": []
  },
  {
   "cell_type": "code",
   "execution_count": null,
   "metadata": {},
   "outputs": [],
   "source": []
  },
  {
   "cell_type": "code",
   "execution_count": null,
   "metadata": {},
   "outputs": [],
   "source": []
  },
  {
   "cell_type": "code",
   "execution_count": null,
   "metadata": {},
   "outputs": [],
   "source": []
  },
  {
   "cell_type": "code",
   "execution_count": null,
   "metadata": {},
   "outputs": [],
   "source": []
  }
 ],
 "metadata": {
  "kernelspec": {
   "display_name": "Python 3",
   "language": "python",
   "name": "python3"
  },
  "language_info": {
   "codemirror_mode": {
    "name": "ipython",
    "version": 3
   },
   "file_extension": ".py",
   "mimetype": "text/x-python",
   "name": "python",
   "nbconvert_exporter": "python",
   "pygments_lexer": "ipython3",
   "version": "3.7.3"
  }
 },
 "nbformat": 4,
 "nbformat_minor": 2
}
