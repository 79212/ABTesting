{
 "cells": [
  {
   "cell_type": "markdown",
   "metadata": {},
   "source": [
    "## A/B Testing Tutorial : Python Code and Dataset "
   ]
  },
  {
   "cell_type": "markdown",
   "metadata": {},
   "source": [
    "This is a short python tutorial that takes the data provided in the attached csv file and calculates whether there is a statistically significant difference in the observed conversion rates for a treatment group and a control group. This would be done as part of the statistical analysis for A/B testing. "
   ]
  },
  {
   "cell_type": "code",
   "execution_count": 16,
   "metadata": {},
   "outputs": [
    {
     "data": {
      "text/html": [
       "<div>\n",
       "<style scoped>\n",
       "    .dataframe tbody tr th:only-of-type {\n",
       "        vertical-align: middle;\n",
       "    }\n",
       "\n",
       "    .dataframe tbody tr th {\n",
       "        vertical-align: top;\n",
       "    }\n",
       "\n",
       "    .dataframe thead th {\n",
       "        text-align: right;\n",
       "    }\n",
       "</style>\n",
       "<table border=\"1\" class=\"dataframe\">\n",
       "  <thead>\n",
       "    <tr style=\"text-align: right;\">\n",
       "      <th></th>\n",
       "      <th>user_id</th>\n",
       "      <th>variation</th>\n",
       "      <th>converted</th>\n",
       "    </tr>\n",
       "  </thead>\n",
       "  <tbody>\n",
       "    <tr>\n",
       "      <th>0</th>\n",
       "      <td>4681</td>\n",
       "      <td>control</td>\n",
       "      <td>1</td>\n",
       "    </tr>\n",
       "    <tr>\n",
       "      <th>1</th>\n",
       "      <td>9052</td>\n",
       "      <td>treatment</td>\n",
       "      <td>0</td>\n",
       "    </tr>\n",
       "    <tr>\n",
       "      <th>2</th>\n",
       "      <td>9579</td>\n",
       "      <td>treatment</td>\n",
       "      <td>0</td>\n",
       "    </tr>\n",
       "    <tr>\n",
       "      <th>3</th>\n",
       "      <td>2601</td>\n",
       "      <td>treatment</td>\n",
       "      <td>0</td>\n",
       "    </tr>\n",
       "    <tr>\n",
       "      <th>4</th>\n",
       "      <td>7136</td>\n",
       "      <td>control</td>\n",
       "      <td>0</td>\n",
       "    </tr>\n",
       "  </tbody>\n",
       "</table>\n",
       "</div>"
      ],
      "text/plain": [
       "   user_id  variation  converted\n",
       "0     4681    control          1\n",
       "1     9052  treatment          0\n",
       "2     9579  treatment          0\n",
       "3     2601  treatment          0\n",
       "4     7136    control          0"
      ]
     },
     "execution_count": 16,
     "metadata": {},
     "output_type": "execute_result"
    }
   ],
   "source": [
    "import pandas as pd\n",
    "import numpy as np\n",
    "from scipy.stats import norm\n",
    "import scipy.stats as stats\n",
    "import statsmodels.stats.proportion as ssp\n",
    "\n",
    "pd.options.display.float_format = \"{:.2f}\".format\n",
    "\n",
    "AB_data = pd.read_csv('/Users/emilee/Documents/data/AB_Test_data.csv')\n",
    "AB_data.head()"
   ]
  },
  {
   "cell_type": "code",
   "execution_count": 4,
   "metadata": {},
   "outputs": [
    {
     "data": {
      "text/plain": [
       "(10000, 3)"
      ]
     },
     "execution_count": 4,
     "metadata": {},
     "output_type": "execute_result"
    }
   ],
   "source": [
    "AB_data.shape"
   ]
  },
  {
   "cell_type": "code",
   "execution_count": 5,
   "metadata": {},
   "outputs": [
    {
     "data": {
      "text/html": [
       "<div>\n",
       "<style scoped>\n",
       "    .dataframe tbody tr th:only-of-type {\n",
       "        vertical-align: middle;\n",
       "    }\n",
       "\n",
       "    .dataframe tbody tr th {\n",
       "        vertical-align: top;\n",
       "    }\n",
       "\n",
       "    .dataframe thead th {\n",
       "        text-align: right;\n",
       "    }\n",
       "</style>\n",
       "<table border=\"1\" class=\"dataframe\">\n",
       "  <thead>\n",
       "    <tr style=\"text-align: right;\">\n",
       "      <th></th>\n",
       "      <th>converted</th>\n",
       "      <th>total</th>\n",
       "      <th>perc</th>\n",
       "    </tr>\n",
       "    <tr>\n",
       "      <th>variation</th>\n",
       "      <th></th>\n",
       "      <th></th>\n",
       "      <th></th>\n",
       "    </tr>\n",
       "  </thead>\n",
       "  <tbody>\n",
       "    <tr>\n",
       "      <th>control</th>\n",
       "      <td>999</td>\n",
       "      <td>4976</td>\n",
       "      <td>0.20</td>\n",
       "    </tr>\n",
       "    <tr>\n",
       "      <th>treatment</th>\n",
       "      <td>1211</td>\n",
       "      <td>5024</td>\n",
       "      <td>0.24</td>\n",
       "    </tr>\n",
       "  </tbody>\n",
       "</table>\n",
       "</div>"
      ],
      "text/plain": [
       "           converted  total  perc\n",
       "variation                        \n",
       "control          999   4976  0.20\n",
       "treatment       1211   5024  0.24"
      ]
     },
     "execution_count": 5,
     "metadata": {},
     "output_type": "execute_result"
    }
   ],
   "source": [
    "## Create summary table with totals, conversions and proportions\n",
    "summary = AB_data.pivot_table(values='converted', index='variation', aggfunc=np.sum)\n",
    "summary['total'] = AB_data.pivot_table(values='converted', index='variation', aggfunc=lambda x: len(x))\n",
    "summary['perc'] = summary['converted']/summary['total']\n",
    "summary"
   ]
  },
  {
   "cell_type": "markdown",
   "metadata": {},
   "source": [
    "We have 4,976 users in our control group and 5,024 in our treatment group.\n",
    "Of those there were 999 conversions in the control group (20%) and 1,211 conversions in the treatment group (24%)"
   ]
  },
  {
   "cell_type": "markdown",
   "metadata": {},
   "source": [
    "**Testing to see if there is a significant difference** "
   ]
  },
  {
   "cell_type": "code",
   "execution_count": 6,
   "metadata": {},
   "outputs": [],
   "source": [
    "# data wrangling, changing type to np. array\n",
    "converted = np.array(summary['converted'])\n",
    "group_totals = np.array(summary['total'])"
   ]
  },
  {
   "cell_type": "code",
   "execution_count": 14,
   "metadata": {},
   "outputs": [
    {
     "name": "stdout",
     "output_type": "stream",
     "text": [
      "estimate difference: 0.04027932803571793\n",
      "confidence interval: [0.02403373 0.05652493]\n"
     ]
    }
   ],
   "source": [
    "## Calculate difference between the two groups and look at 95% CI\n",
    "significance = 0.05\n",
    "confidence = 1 - significance\n",
    "\n",
    "z = stats.norm(loc = 0, scale = 1).ppf(confidence + significance / 2)\n",
    "\n",
    "success_a = converted[1]\n",
    "success_b = converted[0]\n",
    "size_a = group_totals[1]\n",
    "size_b = group_totals[0]\n",
    "\n",
    "prop_a = success_b / size_b\n",
    "prop_b = success_a / size_a\n",
    "var = prop_a * (1 - prop_a) / size_a + prop_b * (1 - prop_b) / size_b\n",
    "se = np.sqrt(var)\n",
    "    \n",
    "# standard formula for the confidence interval: point-estimtate +- z * standard-error\n",
    "prop_diff = prop_b - prop_a\n",
    "confint = prop_diff + np.array([-1, 1]) * z * se\n",
    "\n",
    "print('estimate difference:', prop_diff)\n",
    "print('confidence interval:', confint)"
   ]
  },
  {
   "cell_type": "code",
   "execution_count": 17,
   "metadata": {},
   "outputs": [
    {
     "name": "stdout",
     "output_type": "stream",
     "text": [
      "p value:  1.2111464537151192e-06\n",
      "formated p value: 0.000\n"
     ]
    }
   ],
   "source": [
    "# See whether there is a statistically significant difference \n",
    "stat, pval = ssp.proportions_ztest(converted, group_totals)\n",
    "print('p value: ', pval)\n",
    "print('formated p value: ''{0:0.3f}'.format(pval))"
   ]
  },
  {
   "cell_type": "markdown",
   "metadata": {},
   "source": [
    "**Summary**<br>\n",
    "We have 4,976 users in our control group and 5,024 in our treatment group.<br>\n",
    "Of those there were 999 conversions in the control group (20%) and 1,211 conversions in the treatment group (24%).<br> The point estimate difference between groups is approx. 4% with a 95% CI (2.4%, 5.7%)\n",
    "\n",
    "For our A/B test, the null hypothesis states that there is no significant difference in the conversion rates between the control group and the treatment group.\n",
    "The alternative hypothesis is that there is a significant difference.\n",
    "\n",
    "Out statistical test has given us a p-value of approx. 0.000 which is less than the conventional cut-off of 0.05. This allows us to reject the null hypothesis and conclude that the higher conversion rate noted in the treatment group is indeed statistically significant and likely to be indicitive of a true difference in converstion rates in our full population of users. \n",
    "\n",
    "However we would need to consider the effect size (estimated between 2,4% and 5,7%) within the context of the business to understand whether it is a meaningful difference and whether it is a feasible ROI for the suggested product changes."
   ]
  }
 ],
 "metadata": {
  "kernelspec": {
   "display_name": "Python 3",
   "language": "python",
   "name": "python3"
  },
  "language_info": {
   "codemirror_mode": {
    "name": "ipython",
    "version": 3
   },
   "file_extension": ".py",
   "mimetype": "text/x-python",
   "name": "python",
   "nbconvert_exporter": "python",
   "pygments_lexer": "ipython3",
   "version": "3.7.3"
  }
 },
 "nbformat": 4,
 "nbformat_minor": 2
}
